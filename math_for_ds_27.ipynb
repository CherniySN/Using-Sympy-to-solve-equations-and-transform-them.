{
 "cells": [
  {
   "cell_type": "markdown",
   "metadata": {},
   "source": [
    "Найдем значения выражений, проверим ответы в SymPy."
   ]
  },
  {
   "cell_type": "markdown",
   "metadata": {},
   "source": [
    "## Найдите значение выражения:"
   ]
  },
  {
   "cell_type": "markdown",
   "metadata": {},
   "source": [
    "$$\n",
    "\\frac{(\\sqrt{13}+\\sqrt{7})^{2}}{10+\\sqrt{91}}\n",
    "$$"
   ]
  },
  {
   "cell_type": "markdown",
   "metadata": {},
   "source": [
    "Проведем преобразования:"
   ]
  },
  {
   "cell_type": "markdown",
   "metadata": {},
   "source": [
    "$$\n",
    "\\frac{(\\sqrt{13}+\\sqrt{7})^2}{10 + \\sqrt{91}}\\rightarrow\\frac{(\\sqrt{13})^2+2\\times\\sqrt{13}\\times\\sqrt{7}+(\\sqrt{7})^2}{10 + \\sqrt{91}}\\rightarrow\\frac{20+2\\times\\sqrt{91}}{10 + \\sqrt{91}}\\rightarrow2\n",
    "$$"
   ]
  },
  {
   "cell_type": "markdown",
   "metadata": {},
   "source": [
    "Проверим наше преобразование с помощью SymPy:"
   ]
  },
  {
   "cell_type": "code",
   "execution_count": 1,
   "metadata": {},
   "outputs": [],
   "source": [
    "from sympy import * # знак звездочки означает, чт омы импортировали все данные из библиотеки"
   ]
  },
  {
   "cell_type": "code",
   "execution_count": 2,
   "metadata": {},
   "outputs": [],
   "source": [
    "init_printing(use_unicode = False, wrap_line = False, no_global = True) # формат вывода информации"
   ]
  },
  {
   "cell_type": "code",
   "execution_count": 12,
   "metadata": {},
   "outputs": [
    {
     "data": {
      "image/png": "[encoded data removed]",
      "text/latex": [
       "$\\displaystyle \\frac{\\left(\\sqrt{7} + \\sqrt{13}\\right)^{2}}{\\sqrt{91} + 10}$"
      ],
      "text/plain": [
       "                2\n",
       "/  ___     ____\\ \n",
       "\\\\/ 7  + \\/ 13 / \n",
       "-----------------\n",
       "     ____        \n",
       "   \\/ 91  + 10   "
      ]
     },
     "execution_count": 12,
     "metadata": {},
     "output_type": "execute_result"
    }
   ],
   "source": [
    "expression = (sqrt(13)+sqrt(7))**2/(10+sqrt(91))\n",
    "expression"
   ]
  },
  {
   "cell_type": "code",
   "execution_count": 14,
   "metadata": {},
   "outputs": [
    {
     "data": {
      "image/png": "[encoded data removed]",
      "text/latex": [
       "$\\displaystyle 2$"
      ],
      "text/plain": [
       "2"
      ]
     },
     "execution_count": 14,
     "metadata": {},
     "output_type": "execute_result"
    }
   ],
   "source": [
    "simplify(expression) # функция simplify выполняет упрощение выражений"
   ]
  },
  {
   "cell_type": "markdown",
   "metadata": {},
   "source": [
    "## Найдите значение выражения, если lgb = 5:"
   ]
  },
  {
   "cell_type": "markdown",
   "metadata": {},
   "source": [
    "$$\n",
    "lg\\frac{10}{b^3}\n",
    "$$"
   ]
  },
  {
   "cell_type": "markdown",
   "metadata": {},
   "source": [
    "Проведем преобразования. Для начала вычислим значение b."
   ]
  },
  {
   "cell_type": "markdown",
   "metadata": {},
   "source": [
    "$$\n",
    "\\lg{b}=5\\rightarrow\\log_{10}{b}=5\\rightarrow b= 10^5\n",
    "$$"
   ]
  },
  {
   "cell_type": "markdown",
   "metadata": {},
   "source": [
    "Теперь поставим значение b в наше выражение, которое нужно было вычислить:"
   ]
  },
  {
   "cell_type": "markdown",
   "metadata": {},
   "source": [
    "$$\n",
    "\\lg{\\frac{10}{b^3}}\\rightarrow\\lg{\\frac{10}{(10^5)^3}}\\rightarrow\\lg{\\frac{10}{10^{15}}}\\rightarrow\\log_{10}{\\frac{10}{10^{15}}}\\rightarrow\\log_{10}{10}-\\log_{10}{10^{15}}\\rightarrow1-15\\rightarrow-14\n",
    "$$"
   ]
  },
  {
   "cell_type": "markdown",
   "metadata": {},
   "source": [
    "Проверим наше преобразование с помощью SymPy:"
   ]
  },
  {
   "cell_type": "code",
   "execution_count": 3,
   "metadata": {},
   "outputs": [],
   "source": [
    "b = Symbol('b') # введем символ b далее мы сможем его вычислить"
   ]
  },
  {
   "cell_type": "code",
   "execution_count": 6,
   "metadata": {},
   "outputs": [
    {
     "data": {
      "image/png": "[encoded data removed]",
      "text/latex": [
       "$\\displaystyle \\frac{\\log{\\left(b \\right)}}{\\log{\\left(10 \\right)}}$"
      ],
      "text/plain": [
       " log(b)\n",
       "-------\n",
       "log(10)"
      ]
     },
     "execution_count": 6,
     "metadata": {},
     "output_type": "execute_result"
    }
   ],
   "source": [
    "expression_b = log(b, 10)\n",
    "expression_b"
   ]
  },
  {
   "cell_type": "code",
   "execution_count": 12,
   "metadata": {
    "scrolled": true
   },
   "outputs": [
    {
     "data": {
      "image/png": "[encoded data removed]",
      "text/latex": [
       "$\\displaystyle 100000$"
      ],
      "text/plain": [
       "100000"
      ]
     },
     "execution_count": 12,
     "metadata": {},
     "output_type": "execute_result"
    }
   ],
   "source": [
    "solve_b = solve(expression_b-5, b) # функция slove решает уровнение,тут \"-5\" эквивалентно \"=5\"\n",
    "solve_b = solve_b[0]\n",
    "solve_b"
   ]
  },
  {
   "cell_type": "markdown",
   "metadata": {},
   "source": [
    "Подставим в выражение:"
   ]
  },
  {
   "cell_type": "code",
   "execution_count": 13,
   "metadata": {},
   "outputs": [
    {
     "data": {
      "image/png": "[encoded data removed]",
      "text/latex": [
       "$\\displaystyle - \\log{\\left(100000000000000 \\right)}$"
      ],
      "text/plain": [
       "-log(100000000000000)"
      ]
     },
     "execution_count": 13,
     "metadata": {},
     "output_type": "execute_result"
    }
   ],
   "source": [
    "expression_b_main = log(10 / solve_b**3)\n",
    "expression_b_main"
   ]
  },
  {
   "cell_type": "markdown",
   "metadata": {},
   "source": [
    "В ответе выше одержится 14 нулей, а логарифм по основанию 10 будет равен - 14."
   ]
  },
  {
   "cell_type": "markdown",
   "metadata": {},
   "source": [
    "## Упростите выражение"
   ]
  },
  {
   "cell_type": "markdown",
   "metadata": {},
   "source": [
    "$$\n",
    "2\\times a\\times\\sqrt[3]{a^4}\\times3\\times\\sqrt[3]{a^2}\n",
    "$$"
   ]
  },
  {
   "cell_type": "markdown",
   "metadata": {},
   "source": [
    "Когда перемножаются степени одинаковых чисел, можно просто сложить показатели\n",
    "степеней."
   ]
  },
  {
   "cell_type": "markdown",
   "metadata": {},
   "source": [
    "$$\n",
    "2\\times a\\times\\sqrt[3]{a^4}\\times3\\times\\sqrt[3]{a^2}\\rightarrow6\\times a^{1 +\\frac{4}{3}+\\frac{2}{3} }\\rightarrow 6\\times a^{3}\n",
    "$$"
   ]
  },
  {
   "cell_type": "markdown",
   "metadata": {},
   "source": [
    "Проверим наше выражение и упростим его с помощью библиотеки."
   ]
  },
  {
   "cell_type": "code",
   "execution_count": 15,
   "metadata": {},
   "outputs": [],
   "source": [
    "a = Symbol('a')"
   ]
  },
  {
   "cell_type": "code",
   "execution_count": 18,
   "metadata": {},
   "outputs": [
    {
     "data": {
      "image/png": "[encoded data removed]",
      "text/latex": [
       "$\\displaystyle 6 a^{3.0}$"
      ],
      "text/plain": [
       "   3.0\n",
       "6*a   "
      ]
     },
     "execution_count": 18,
     "metadata": {},
     "output_type": "execute_result"
    }
   ],
   "source": [
    "expression_a = 2 * a * a**(4/3) * 3 * a**(2/3)\n",
    "expression_a"
   ]
  },
  {
   "cell_type": "markdown",
   "metadata": {},
   "source": [
    "Наша библиотека сразу же дала нам упрошеное выражение, перемножив все слогаемые. Результат верный."
   ]
  },
  {
   "cell_type": "markdown",
   "metadata": {},
   "source": [
    "## Реализуйте функцию на языке Python, принимающую на вход n и возвращающую значение следующей суммы:"
   ]
  },
  {
   "cell_type": "markdown",
   "metadata": {},
   "source": [
    "$$\n",
    "\\sum_{i=1}^{n} ln \\; i\n",
    "$$"
   ]
  },
  {
   "cell_type": "code",
   "execution_count": 42,
   "metadata": {},
   "outputs": [],
   "source": [
    "def summa(n):\n",
    "    summa = 0\n",
    "    for x in range(1, n+1, 1):\n",
    "        summa = log(x) + summa\n",
    "    return summa"
   ]
  },
  {
   "cell_type": "code",
   "execution_count": 43,
   "metadata": {
    "scrolled": true
   },
   "outputs": [
    {
     "data": {
      "image/png": "[encoded data removed]",
      "text/latex": [
       "$\\displaystyle \\log{\\left(2 \\right)} + \\log{\\left(3 \\right)} + \\log{\\left(4 \\right)} + \\log{\\left(5 \\right)}$"
      ],
      "text/plain": [
       "log(2) + log(3) + log(4) + log(5)"
      ]
     },
     "execution_count": 43,
     "metadata": {},
     "output_type": "execute_result"
    }
   ],
   "source": [
    "summa(5)"
   ]
  },
  {
   "cell_type": "markdown",
   "metadata": {},
   "source": [
    "Обратите внимание что функция работает верно. Т.е. наша сумма начинается с i = 1, но поскольку натуральный лагориям т 1 будет равен 0, то в вывод 0 не попадает."
   ]
  },
  {
   "cell_type": "markdown",
   "metadata": {},
   "source": [
    "## Реализуйте функцию на языке Python, принимающую на вход n и возвращающую значение следующего выражения:"
   ]
  },
  {
   "cell_type": "markdown",
   "metadata": {},
   "source": [
    "$$\n",
    "ln \\; (\\prod_{i=1}^{n} i)\n",
    "$$"
   ]
  },
  {
   "cell_type": "markdown",
   "metadata": {},
   "source": [
    "В этом математическом выражении нам необходимо посчитать натуральный лагорифм от произведений чисел от 1 до n."
   ]
  },
  {
   "cell_type": "code",
   "execution_count": 47,
   "metadata": {},
   "outputs": [],
   "source": [
    "def multiplication(n):\n",
    "    multiplication = 1\n",
    "    for x in range(1, n+1, 1):\n",
    "        multiplication = multiplication * x\n",
    "    return log(multiplication)"
   ]
  },
  {
   "cell_type": "code",
   "execution_count": 50,
   "metadata": {},
   "outputs": [
    {
     "data": {
      "image/png": "[encoded data removed]",
      "text/latex": [
       "$\\displaystyle \\log{\\left(2 \\right)}$"
      ],
      "text/plain": [
       "log(2)"
      ]
     },
     "execution_count": 50,
     "metadata": {},
     "output_type": "execute_result"
    }
   ],
   "source": [
    "multiplication(2)"
   ]
  },
  {
   "cell_type": "code",
   "execution_count": 51,
   "metadata": {},
   "outputs": [
    {
     "data": {
      "image/png": "[encoded data removed]",
      "text/latex": [
       "$\\displaystyle \\log{\\left(6 \\right)}$"
      ],
      "text/plain": [
       "log(6)"
      ]
     },
     "execution_count": 51,
     "metadata": {},
     "output_type": "execute_result"
    }
   ],
   "source": [
    "multiplication(3)"
   ]
  },
  {
   "cell_type": "markdown",
   "metadata": {},
   "source": [
    "Как мы видим функция работает правильно."
   ]
  },
  {
   "cell_type": "markdown",
   "metadata": {},
   "source": [
    "## Проверьте, что функции из заданий 4 и 5 эквивалентны. Объясните в комментарии к коду, почему это так."
   ]
  },
  {
   "cell_type": "code",
   "execution_count": 53,
   "metadata": {},
   "outputs": [
    {
     "name": "stdout",
     "output_type": "stream",
     "text": [
      "Функция из задния 4: log(2) + log(3) + log(4) + log(5)\n",
      "Функция из задния 5: log(120)\n"
     ]
    }
   ],
   "source": [
    "print('Функция из задния 4:', summa(5))\n",
    "print('Функция из задния 5:', multiplication(5))"
   ]
  },
  {
   "cell_type": "markdown",
   "metadata": {},
   "source": [
    "Исходя из свойств логарифмов упростим первое выражение. Поскольку у логарифмов везде одинаковое основание, то мы можем перемножить числа в скобках. "
   ]
  },
  {
   "cell_type": "code",
   "execution_count": 54,
   "metadata": {},
   "outputs": [
    {
     "data": {
      "image/png": "[encoded data removed]",
      "text/latex": [
       "$\\displaystyle \\log{\\left(2 \\right)} + \\log{\\left(3 \\right)} + \\log{\\left(4 \\right)} + \\log{\\left(5 \\right)}$"
      ],
      "text/plain": [
       "log(2) + log(3) + log(4) + log(5)"
      ]
     },
     "execution_count": 54,
     "metadata": {},
     "output_type": "execute_result"
    }
   ],
   "source": [
    "summa_expression = summa(5)\n",
    "summa_expression"
   ]
  },
  {
   "cell_type": "code",
   "execution_count": 55,
   "metadata": {
    "scrolled": true
   },
   "outputs": [
    {
     "data": {
      "image/png": "[encoded data removed]",
      "text/latex": [
       "$\\displaystyle \\log{\\left(120 \\right)}$"
      ],
      "text/plain": [
       "log(120)"
      ]
     },
     "execution_count": 55,
     "metadata": {},
     "output_type": "execute_result"
    }
   ],
   "source": [
    "summa_expression_simplify = simplify(summa_expression)\n",
    "summa_expression_simplify"
   ]
  },
  {
   "cell_type": "markdown",
   "metadata": {},
   "source": [
    "Как мы видим выражения полностью одинаковы. "
   ]
  },
  {
   "cell_type": "markdown",
   "metadata": {},
   "source": [
    "## Найдите значение выражения"
   ]
  },
  {
   "cell_type": "markdown",
   "metadata": {},
   "source": [
    "$$\n",
    "\\frac{15\\sqrt[5]{\\sqrt[28]{a}}-7\\sqrt[7]{\\sqrt[20]{a}}}{2\\sqrt[35]{\\sqrt[4]{a}}}\n",
    "$$"
   ]
  },
  {
   "cell_type": "markdown",
   "metadata": {},
   "source": [
    "Упростим выражения использую свойства степеней\\корней:"
   ]
  },
  {
   "cell_type": "markdown",
   "metadata": {},
   "source": [
    "$$\n",
    "\\frac{15\\sqrt[5]{\\sqrt[28]{a}}-7\\sqrt[7]{\\sqrt[20]{a}}}{2\\sqrt[35]{\\sqrt[4]{a}}}\\rightarrow \\frac{15\\times{a}^{\\frac{1}{28\\times 5}}-7\\times{a}^{\\frac{1}{20\\times 7}}}{2\\times{a}^{\\frac{1}{4\\times 35}}}\\rightarrow\\frac{15\\times{a}^{\\frac{1}{7\\times4\\times 5}}-7\\times{a}^{\\frac{1}{4\\times5\\times 7}}}{2\\times{a}^{\\frac{1}{4\\times 7\\times5}}}\\rightarrow4\n",
    "$$"
   ]
  },
  {
   "cell_type": "markdown",
   "metadata": {},
   "source": [
    "Воспользовавшись свойствами степеней мы можем увидеть что переменную а можно сократить."
   ]
  },
  {
   "cell_type": "markdown",
   "metadata": {},
   "source": [
    "## Найдите"
   ]
  },
  {
   "cell_type": "markdown",
   "metadata": {},
   "source": [
    "$$\n",
    "\\frac{g(2-x)}{g(2+x)}, если \\;g(x)=\\sqrt[3]{x(4-x)} \\; при \\mid x\\mid \\neq2\n",
    "$$"
   ]
  },
  {
   "cell_type": "code",
   "execution_count": 56,
   "metadata": {},
   "outputs": [],
   "source": [
    "x = Symbol('x')"
   ]
  },
  {
   "cell_type": "code",
   "execution_count": 59,
   "metadata": {},
   "outputs": [],
   "source": [
    "expression_g = (4*x-x*x)**(1/3)"
   ]
  },
  {
   "cell_type": "code",
   "execution_count": 60,
   "metadata": {
    "scrolled": true
   },
   "outputs": [
    {
     "data": {
      "image/png": "[encoded data removed]",
      "text/latex": [
       "$\\displaystyle \\left(x \\left(4 - x\\right)\\right)^{0.333333333333333}$"
      ],
      "text/plain": [
       "           0.333333333333333\n",
       "(x*(4 - x))                 "
      ]
     },
     "execution_count": 60,
     "metadata": {},
     "output_type": "execute_result"
    }
   ],
   "source": [
    "expression_g = simplify(expression_g)\n",
    "expression_g"
   ]
  },
  {
   "cell_type": "markdown",
   "metadata": {},
   "source": [
    "Решим данное уровнение:"
   ]
  },
  {
   "cell_type": "code",
   "execution_count": 61,
   "metadata": {},
   "outputs": [
    {
     "data": {
      "image/png": "[encoded data removed]",
      "text/latex": [
       "$\\displaystyle \\left[ 0.0, \\  4.0\\right]$"
      ],
      "text/plain": [
       "[0.0, 4.0]"
      ]
     },
     "execution_count": 61,
     "metadata": {},
     "output_type": "execute_result"
    }
   ],
   "source": [
    "expression_g_solve = solve(expression_g-0, x) # Найдем корни\n",
    "expression_g_solve"
   ]
  },
  {
   "cell_type": "markdown",
   "metadata": {},
   "source": [
    "Мы нашли корни уравнения."
   ]
  },
  {
   "cell_type": "code",
   "execution_count": 62,
   "metadata": {},
   "outputs": [],
   "source": [
    "numerator_g = (4*(2-x)-(2-x)*(2-x))**(1/3)\n",
    "denominator_g = (4*(2+x)-(2+x)*(2+x))**(1/3)"
   ]
  },
  {
   "cell_type": "code",
   "execution_count": 63,
   "metadata": {
    "scrolled": true
   },
   "outputs": [
    {
     "data": {
      "image/png": "[encoded data removed]",
      "text/latex": [
       "$\\displaystyle \\frac{\\left(- 4 x - \\left(2 - x\\right)^{2} + 8\\right)^{0.333333333333333}}{\\left(4 x - \\left(x + 2\\right)^{2} + 8\\right)^{0.333333333333333}}$"
      ],
      "text/plain": [
       "                     0.333333333333333                     -0.333333333333333\n",
       "/              2    \\                  /             2    \\                  \n",
       "\\-4*x - (2 - x)  + 8/                 *\\4*x - (x + 2)  + 8/                  "
      ]
     },
     "execution_count": 63,
     "metadata": {},
     "output_type": "execute_result"
    }
   ],
   "source": [
    "expr_g_main = numerator_g / denominator_g\n",
    "expr_g_main"
   ]
  },
  {
   "cell_type": "code",
   "execution_count": 64,
   "metadata": {},
   "outputs": [
    {
     "data": {
      "image/png": "[encoded data removed]",
      "text/latex": [
       "$\\displaystyle 1$"
      ],
      "text/plain": [
       "1"
      ]
     },
     "execution_count": 64,
     "metadata": {},
     "output_type": "execute_result"
    }
   ],
   "source": [
    "expr_g_main = simplify(expr_g_main)\n",
    "expr_g_main"
   ]
  },
  {
   "cell_type": "markdown",
   "metadata": {},
   "source": [
    "И так мы получили ответ 1. Посмотрим как это получилось, приведя поэтапные преобразования:"
   ]
  },
  {
   "cell_type": "markdown",
   "metadata": {},
   "source": [
    "$$\n",
    "\\frac{g(2-x)}{g(2+x)}\\rightarrow\\frac{\\sqrt[3]{(2-x)\\times(4-(2-x))}}{\\sqrt[3]{(2+x)\\times(4-(2+x))}}\\rightarrow\\frac{\\sqrt[3]{4\\times(2-x)-{(2-x)}^2}}{\\sqrt[3]{4\\times(2+x)-{(2+x)}^2}}\\rightarrow\\frac{\\sqrt[3]{8-4x-(4-4x+x^2)}}{\\sqrt[3]{8+4x-(4+4x+x^2)}}\\rightarrow\\frac{\\sqrt[3]{8-4x-4+4x-x^2)}}{\\sqrt[3]{8+4x-4-4x-x^2)}}\\rightarrow\\frac{\\sqrt[3]{4-x^2)}}{\\sqrt[3]{4-x^2)}}\\rightarrow1\n",
    "$$"
   ]
  },
  {
   "cell_type": "markdown",
   "metadata": {},
   "source": [
    "## Найдите значение выражения"
   ]
  },
  {
   "cell_type": "markdown",
   "metadata": {},
   "source": [
    "$$\n",
    "((2x^3)^4-(x^2)^6)\\div(3x^{12})\n",
    " $$"
   ]
  },
  {
   "cell_type": "markdown",
   "metadata": {},
   "source": [
    "Упростим выражение в ручную:"
   ]
  },
  {
   "cell_type": "markdown",
   "metadata": {},
   "source": [
    "$$\n",
    "((2x^3)^4-(x^2)^6)\\div(3x^{12})\\rightarrow(2^4x^{12}-x^{12})\\div(3x^{12})\\rightarrow\\frac{2^4-1}{3}\\rightarrow5\n",
    "$$"
   ]
  },
  {
   "cell_type": "markdown",
   "metadata": {},
   "source": [
    "В ответе мы получили 5. Проверим наши преобразования используя библиотеку sympy."
   ]
  },
  {
   "cell_type": "code",
   "execution_count": 66,
   "metadata": {},
   "outputs": [
    {
     "data": {
      "image/png": "[encoded data removed]",
      "text/latex": [
       "$\\displaystyle 5$"
      ],
      "text/plain": [
       "5"
      ]
     },
     "execution_count": 66,
     "metadata": {},
     "output_type": "execute_result"
    }
   ],
   "source": [
    "x = Symbol('x')\n",
    "Expression = ((2*x**3)**4-(x**2)**6)/(3*x**12)\n",
    "Expression"
   ]
  },
  {
   "cell_type": "markdown",
   "metadata": {},
   "source": [
    "Наше решение верно. Ответы сошлись."
   ]
  },
  {
   "cell_type": "markdown",
   "metadata": {},
   "source": [
    "## Найдите значение выражения при b=2"
   ]
  },
  {
   "cell_type": "markdown",
   "metadata": {},
   "source": [
    "$$\n",
    "(11a^6b^3 - (3a^2b)^3)\\div(4a^6b^6)\n",
    "$$"
   ]
  },
  {
   "cell_type": "markdown",
   "metadata": {},
   "source": [
    "Проведем упрощения выражения:"
   ]
  },
  {
   "cell_type": "markdown",
   "metadata": {},
   "source": [
    "$$\n",
    "(11a^6b^3 - (3a^2b)^3)\\div(4a^6b^6)\\rightarrow\\frac{11a^6b^3-27a^6b^3}{4a^6b^6}\\rightarrow\\frac{-16a^6b^3}{4a^6b^6}\\rightarrow-\\frac{4}{b^3}\n",
    "$$"
   ]
  },
  {
   "cell_type": "markdown",
   "metadata": {},
   "source": [
    "Ответ при b=2 будет -1/2"
   ]
  },
  {
   "cell_type": "markdown",
   "metadata": {},
   "source": [
    "Проверим наши вычисления с помощью бибилиотеки:"
   ]
  },
  {
   "cell_type": "code",
   "execution_count": 67,
   "metadata": {},
   "outputs": [],
   "source": [
    "b = Symbol('b')"
   ]
  },
  {
   "cell_type": "code",
   "execution_count": 68,
   "metadata": {},
   "outputs": [
    {
     "data": {
      "image/png": "[encoded data removed]",
      "text/latex": [
       "$\\displaystyle - \\frac{4}{b^{3}}$"
      ],
      "text/plain": [
       "-4 \n",
       "---\n",
       "  3\n",
       " b "
      ]
     },
     "execution_count": 68,
     "metadata": {},
     "output_type": "execute_result"
    }
   ],
   "source": [
    "expression_b = (11*a**6*b**3-(3*a**2*b)**3)/(4*a**6*b**6)\n",
    "expression_b"
   ]
  },
  {
   "cell_type": "markdown",
   "metadata": {},
   "source": [
    "Как видим библиотека сразу сделал упрощение нашего выражения."
   ]
  },
  {
   "cell_type": "code",
   "execution_count": 72,
   "metadata": {},
   "outputs": [
    {
     "data": {
      "image/png": "[encoded data removed]",
      "text/latex": [
       "$\\displaystyle 2.0$"
      ],
      "text/plain": [
       "2.00000000000000"
      ]
     },
     "execution_count": 72,
     "metadata": {},
     "output_type": "execute_result"
    }
   ],
   "source": [
    "expression_g_solve = solve(expression_b+0.5, b)\n",
    "expression_g_solve[0]"
   ]
  },
  {
   "cell_type": "markdown",
   "metadata": {},
   "source": [
    "Поставив свой ответ который мы получили, мы нашли значение b = 2, значит выражение решено верно."
   ]
  }
 ],
 "metadata": {
  "kernelspec": {
   "display_name": "Python 3",
   "language": "python",
   "name": "python3"
  },
  "language_info": {
   "codemirror_mode": {
    "name": "ipython",
    "version": 3
   },
   "file_extension": ".py",
   "mimetype": "text/x-python",
   "name": "python",
   "nbconvert_exporter": "python",
   "pygments_lexer": "ipython3",
   "version": "3.7.4"
  }
 },
 "nbformat": 4,
 "nbformat_minor": 2
}
